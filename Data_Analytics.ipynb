{
  "nbformat": 4,
  "nbformat_minor": 0,
  "metadata": {
    "colab": {
      "provenance": [],
      "authorship_tag": "ABX9TyMZQdRHGioN1NI2mm8UyPEc",
      "include_colab_link": true
    },
    "kernelspec": {
      "name": "python3",
      "display_name": "Python 3"
    },
    "language_info": {
      "name": "python"
    }
  },
  "cells": [
    {
      "cell_type": "markdown",
      "metadata": {
        "id": "view-in-github",
        "colab_type": "text"
      },
      "source": [
        "<a href=\"https://colab.research.google.com/github/pawan-cpu/AI-enabled-ThreatMatrix-Analytics/blob/main/Data_Analytics.ipynb\" target=\"_parent\"><img src=\"https://colab.research.google.com/assets/colab-badge.svg\" alt=\"Open In Colab\"/></a>"
      ]
    },
    {
      "cell_type": "code",
      "execution_count": null,
      "metadata": {
        "id": "azts-MfpfOaU"
      },
      "outputs": [],
      "source": []
    },
    {
      "cell_type": "code",
      "source": [
        "type(2>5)"
      ],
      "metadata": {
        "colab": {
          "base_uri": "https://localhost:8080/"
        },
        "id": "KH5S74qWgjoA",
        "outputId": "b31f19b9-e14f-4a70-efcd-3a1ec9ee740c"
      },
      "execution_count": null,
      "outputs": [
        {
          "output_type": "execute_result",
          "data": {
            "text/plain": [
              "bool"
            ]
          },
          "metadata": {},
          "execution_count": 13
        }
      ]
    },
    {
      "cell_type": "code",
      "source": [
        "type('Samba')"
      ],
      "metadata": {
        "colab": {
          "base_uri": "https://localhost:8080/"
        },
        "id": "p9cLbjoRgy2U",
        "outputId": "1ecb3faf-83b0-42b9-f32c-6c98767c034e"
      },
      "execution_count": null,
      "outputs": [
        {
          "output_type": "execute_result",
          "data": {
            "text/plain": [
              "str"
            ]
          },
          "metadata": {},
          "execution_count": 14
        }
      ]
    },
    {
      "cell_type": "markdown",
      "source": [
        "Data types in python\n",
        "\n",
        "7.9 -float\n",
        "2 - integer\n",
        "'Ramesh'- String\n",
        "True /False - Bool\n",
        "type(): Identify the Data Type\n"
      ],
      "metadata": {
        "id": "3r3YQA_MffZ_"
      }
    },
    {
      "cell_type": "code",
      "source": [
        "#list\n",
        "['cookie','dessert','chocolate']"
      ],
      "metadata": {
        "colab": {
          "base_uri": "https://localhost:8080/"
        },
        "id": "18lvG1fojE-U",
        "outputId": "0e14c2df-aaa4-4caf-f175-da61ba14dc77"
      },
      "execution_count": null,
      "outputs": [
        {
          "output_type": "execute_result",
          "data": {
            "text/plain": [
              "['cookie', 'dessert', 'chocolate']"
            ]
          },
          "metadata": {},
          "execution_count": 15
        }
      ]
    },
    {
      "cell_type": "code",
      "source": [
        "Multiline = \"\"\"\n",
        "\n",
        "The ice melts at zero degree,\n",
        "The earth revolves around the Sun,\n",
        "The data analyst taining is attended by Samba and Ramesh.\n",
        "\n",
        "\"\"\""
      ],
      "metadata": {
        "id": "6rVG9yNGj0oI"
      },
      "execution_count": null,
      "outputs": []
    },
    {
      "cell_type": "code",
      "source": [
        "print(Multiline)\n",
        "# > < membership operators"
      ],
      "metadata": {
        "colab": {
          "base_uri": "https://localhost:8080/"
        },
        "id": "b3v6n6CDkgz9",
        "outputId": "8d72b7ca-068f-48a0-fdbe-291aeb0551b3"
      },
      "execution_count": null,
      "outputs": [
        {
          "output_type": "stream",
          "name": "stdout",
          "text": [
            "\n",
            " \n",
            "The ice melts at zero degree,\n",
            "The earth revolves around the Sun,\n",
            "The data analyst taining is attended by Samba and Ramesh.\n",
            "\n",
            "\n"
          ]
        }
      ]
    },
    {
      "cell_type": "code",
      "source": [
        "#list\n",
        "#concatenating the different datatypes\n",
        "['vanilla',3,['Scoops','Spoon'],True]"
      ],
      "metadata": {
        "colab": {
          "base_uri": "https://localhost:8080/"
        },
        "id": "1bG0xiPQk7JC",
        "outputId": "a0e685a0-5d22-4fad-d211-d43ab1cd196f"
      },
      "execution_count": null,
      "outputs": [
        {
          "output_type": "execute_result",
          "data": {
            "text/plain": [
              "['vanilla', 3, ['Scoops', 'Spoon'], True]"
            ]
          },
          "metadata": {},
          "execution_count": 18
        }
      ]
    },
    {
      "cell_type": "code",
      "source": [
        "#sets\n",
        "daiy_pints = {1,2,3,4,8}"
      ],
      "metadata": {
        "id": "dw3uJ9A5nmQZ"
      },
      "execution_count": null,
      "outputs": []
    },
    {
      "cell_type": "code",
      "source": [
        "#fucnction to check datatype\n",
        "type(daiy_pints)"
      ],
      "metadata": {
        "colab": {
          "base_uri": "https://localhost:8080/"
        },
        "id": "W6JO_MjDofBP",
        "outputId": "5ec6463c-620f-4a06-fcac-f13c50c56c34"
      },
      "execution_count": null,
      "outputs": [
        {
          "output_type": "execute_result",
          "data": {
            "text/plain": [
              "set"
            ]
          },
          "metadata": {},
          "execution_count": 22
        }
      ]
    },
    {
      "cell_type": "code",
      "source": [
        "#tuple\n",
        "#immutable\n",
        "tuple_scoops = (1,2,3,4)"
      ],
      "metadata": {
        "id": "3ZgCUT3iotJo"
      },
      "execution_count": null,
      "outputs": []
    },
    {
      "cell_type": "code",
      "source": [
        "type(tuple_scoops)"
      ],
      "metadata": {
        "colab": {
          "base_uri": "https://localhost:8080/"
        },
        "id": "5uQWxgt1pCId",
        "outputId": "efa200c8-725a-4deb-c187-2d3e80c492e0"
      },
      "execution_count": null,
      "outputs": [
        {
          "output_type": "execute_result",
          "data": {
            "text/plain": [
              "tuple"
            ]
          },
          "metadata": {},
          "execution_count": 24
        }
      ]
    },
    {
      "cell_type": "code",
      "source": [
        "tuple_scoops[0]"
      ],
      "metadata": {
        "colab": {
          "base_uri": "https://localhost:8080/"
        },
        "id": "ND7eJShApHNb",
        "outputId": "1a14aa75-7032-49df-c185-7d809b6aa083"
      },
      "execution_count": null,
      "outputs": [
        {
          "output_type": "execute_result",
          "data": {
            "text/plain": [
              "1"
            ]
          },
          "metadata": {},
          "execution_count": 25
        }
      ]
    },
    {
      "cell_type": "code",
      "source": [
        "daily_email_log = {1,2,3,4,5,6,7}\n",
        "print(daily_email_log)"
      ],
      "metadata": {
        "colab": {
          "base_uri": "https://localhost:8080/"
        },
        "id": "qMQRrsqtpt_b",
        "outputId": "45c467a7-b1fa-49bb-86a1-868f805358fc"
      },
      "execution_count": null,
      "outputs": [
        {
          "output_type": "stream",
          "name": "stdout",
          "text": [
            "{1, 2, 3, 4, 5, 6, 7}\n"
          ]
        }
      ]
    },
    {
      "cell_type": "code",
      "source": [
        "daily_frequency = {1,3,5,7,9,8}"
      ],
      "metadata": {
        "id": "pjwqVkKeqek4"
      },
      "execution_count": null,
      "outputs": []
    },
    {
      "cell_type": "code",
      "source": [
        "print(daily_email_log | daily_frequency)"
      ],
      "metadata": {
        "colab": {
          "base_uri": "https://localhost:8080/"
        },
        "id": "ENNMyHrGqyGo",
        "outputId": "6576d35a-f77e-40ad-b352-26d5a075adb1"
      },
      "execution_count": null,
      "outputs": [
        {
          "output_type": "stream",
          "name": "stdout",
          "text": [
            "{1, 2, 3, 4, 5, 6, 7, 8, 9}\n"
          ]
        }
      ]
    }
  ]
}